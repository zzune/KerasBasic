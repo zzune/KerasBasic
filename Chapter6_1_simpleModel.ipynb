{
  "nbformat": 4,
  "nbformat_minor": 0,
  "metadata": {
    "colab": {
      "name": "Chapter6-1_simpleModel.ipynb",
      "version": "0.3.2",
      "provenance": []
    },
    "kernelspec": {
      "name": "python3",
      "display_name": "Python 3"
    },
    "accelerator": "GPU"
  },
  "cells": [
    {
      "cell_type": "markdown",
      "metadata": {
        "id": "view-in-github",
        "colab_type": "text"
      },
      "source": [
        "[View in Colaboratory](https://colab.research.google.com/github/zzune/KerasBasic/blob/master/Chapter6_1_simpleModel.ipynb)"
      ]
    },
    {
      "metadata": {
        "id": "0DHzG4z_KSfM",
        "colab_type": "code",
        "colab": {
          "base_uri": "https://localhost:8080/",
          "height": 34
        },
        "outputId": "dadc3569-2eaf-4fbf-ddfd-74bd14ed5d49"
      },
      "cell_type": "code",
      "source": [
        "# 0. 사용할 패키지 불러오기\n",
        "from keras.utils import np_utils\n",
        "from keras.datasets import mnist\n",
        "from keras.models import Sequential\n",
        "from keras.layers import Dense, Activation\n",
        "import numpy as np\n",
        "from numpy import argmax"
      ],
      "execution_count": 1,
      "outputs": [
        {
          "output_type": "stream",
          "text": [
            "Using TensorFlow backend.\n"
          ],
          "name": "stderr"
        }
      ]
    },
    {
      "metadata": {
        "id": "X8Miw7GRKn8t",
        "colab_type": "code",
        "colab": {
          "base_uri": "https://localhost:8080/",
          "height": 51
        },
        "outputId": "1c89525d-8033-4ec5-b6d1-80ae9292aaff"
      },
      "cell_type": "code",
      "source": [
        "# 1. 데이터셋 생성하기\n",
        "\n",
        "# 훈련셋과 시험셋 불러오기\n",
        "(x_train, y_train), (x_test, y_test) = mnist.load_data()\n",
        "\n",
        "# 데이터셋 전처리\n",
        "x_train = x_train.reshape(60000, 784).astype('float32') / 255.0\n",
        "x_test = x_test.reshape(10000, 784).astype('float32') / 255.0\n",
        "\n",
        "# 원핫인코딩 (one-hot encoding) 처리\n",
        "y_train = np_utils.to_categorical(y_train)\n",
        "y_test = np_utils.to_categorical(y_test)\n",
        "\n",
        "# 훈련셋과 검증셋 분리\n",
        "x_val = x_train[:42000] # 훈련셋의 30%를 검증셋으로 사용\n",
        "x_train = x_train[42000:]\n",
        "y_val = y_train[:42000] # 훈련셋의 30%를 검증셋으로 사용\n",
        "y_train = y_train[42000:]"
      ],
      "execution_count": 2,
      "outputs": [
        {
          "output_type": "stream",
          "text": [
            "Downloading data from https://s3.amazonaws.com/img-datasets/mnist.npz\n",
            "11493376/11490434 [==============================] - 1s 0us/step\n"
          ],
          "name": "stdout"
        }
      ]
    },
    {
      "metadata": {
        "id": "EG3ocpukLUqt",
        "colab_type": "code",
        "colab": {}
      },
      "cell_type": "code",
      "source": [
        "# 2. 모델 구성하기\n",
        "model = Sequential()\n",
        "model.add(Dense(units=64, input_dim=28*28, activation='relu'))\n",
        "model.add(Dense(units=10, activation='softmax'))"
      ],
      "execution_count": 0,
      "outputs": []
    },
    {
      "metadata": {
        "id": "njYheGCPLeSu",
        "colab_type": "code",
        "colab": {}
      },
      "cell_type": "code",
      "source": [
        "# 3. 모델 학습과정 설정하기\n",
        "model.compile(loss='categorical_crossentropy', optimizer='sgd', metrics=['accuracy'])"
      ],
      "execution_count": 0,
      "outputs": []
    },
    {
      "metadata": {
        "id": "7H8WdqaaLlvr",
        "colab_type": "code",
        "colab": {
          "base_uri": "https://localhost:8080/",
          "height": 241
        },
        "outputId": "741c20e0-e0e1-4081-a9ae-c292ccfc8cbb"
      },
      "cell_type": "code",
      "source": [
        "# 4. 모델 학습시키기\n",
        "model.fit(x_train, y_train, epochs=5, batch_size=32, validation_data=(x_val, y_val))"
      ],
      "execution_count": 5,
      "outputs": [
        {
          "output_type": "stream",
          "text": [
            "Train on 18000 samples, validate on 42000 samples\n",
            "Epoch 1/5\n",
            "18000/18000 [==============================] - 6s 317us/step - loss: 1.1968 - acc: 0.7109 - val_loss: 0.6628 - val_acc: 0.8473\n",
            "Epoch 2/5\n",
            "18000/18000 [==============================] - 5s 280us/step - loss: 0.5145 - acc: 0.8727 - val_loss: 0.4754 - val_acc: 0.8735\n",
            "Epoch 3/5\n",
            "18000/18000 [==============================] - 5s 277us/step - loss: 0.4088 - acc: 0.8913 - val_loss: 0.4123 - val_acc: 0.8854\n",
            "Epoch 4/5\n",
            "18000/18000 [==============================] - 5s 275us/step - loss: 0.3631 - acc: 0.9010 - val_loss: 0.3777 - val_acc: 0.8944\n",
            "Epoch 5/5\n",
            "13632/18000 [=====================>........] - ETA: 0s - loss: 0.3350 - acc: 0.9077"
          ],
          "name": "stdout"
        },
        {
          "output_type": "stream",
          "text": [
            "18000/18000 [==============================] - 5s 280us/step - loss: 0.3349 - acc: 0.9074 - val_loss: 0.3567 - val_acc: 0.8999\n"
          ],
          "name": "stdout"
        },
        {
          "output_type": "execute_result",
          "data": {
            "text/plain": [
              "<keras.callbacks.History at 0x7fe42a92eeb8>"
            ]
          },
          "metadata": {
            "tags": []
          },
          "execution_count": 5
        }
      ]
    },
    {
      "metadata": {
        "id": "gj0dgq4oLsjB",
        "colab_type": "code",
        "colab": {
          "base_uri": "https://localhost:8080/",
          "height": 68
        },
        "outputId": "bfd69c1f-5038-485f-874a-6476445f0eec"
      },
      "cell_type": "code",
      "source": [
        "# 5. 모델 평가하기\n",
        "loss_and_metrics = model.evaluate(x_test, y_test, batch_size=32)\n",
        "print('')\n",
        "print('loss_and_metrics : ' + str(loss_and_metrics))"
      ],
      "execution_count": 6,
      "outputs": [
        {
          "output_type": "stream",
          "text": [
            "10000/10000 [==============================] - 1s 68us/step\n",
            "\n",
            "loss_and_metrics : [0.33323650214076045, 0.9064]\n"
          ],
          "name": "stdout"
        }
      ]
    },
    {
      "metadata": {
        "id": "ZEK9pJTEL244",
        "colab_type": "code",
        "colab": {
          "base_uri": "https://localhost:8080/",
          "height": 102
        },
        "outputId": "d57c2141-82d3-4e0d-f294-58a66d616a02"
      },
      "cell_type": "code",
      "source": [
        "# 6. 모델 사용하기\n",
        "xhat_idx = np.random.choice(x_test.shape[0], 5)\n",
        "xhat = x_test[xhat_idx]\n",
        "yhat = model.predict_classes(xhat)\n",
        "\n",
        "for i in range(5):\n",
        "  print('True : ' + str(argmax(y_test[xhat_idx[i]])) + ', Predict : ' + str(yhat[i]))"
      ],
      "execution_count": 7,
      "outputs": [
        {
          "output_type": "stream",
          "text": [
            "True : 8, Predict : 8\n",
            "True : 6, Predict : 6\n",
            "True : 1, Predict : 1\n",
            "True : 0, Predict : 0\n",
            "True : 4, Predict : 4\n"
          ],
          "name": "stdout"
        }
      ]
    }
  ]
}