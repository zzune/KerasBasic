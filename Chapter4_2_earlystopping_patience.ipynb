{
  "nbformat": 4,
  "nbformat_minor": 0,
  "metadata": {
    "colab": {
      "name": "Chapter4-2_earlystopping_patience.ipynb",
      "version": "0.3.2",
      "provenance": []
    },
    "kernelspec": {
      "name": "python3",
      "display_name": "Python 3"
    }
  },
  "cells": [
    {
      "cell_type": "markdown",
      "metadata": {
        "id": "view-in-github",
        "colab_type": "text"
      },
      "source": [
        "[View in Colaboratory](https://colab.research.google.com/github/zzune/KerasBasic/blob/master/Chapter4_2_earlystopping_patience.ipynb)"
      ]
    },
    {
      "metadata": {
        "id": "LMKZ2O2-WgTZ",
        "colab_type": "code",
        "colab": {
          "base_uri": "https://localhost:8080/",
          "height": 34
        },
        "outputId": "b4e38a80-095b-42d4-8e9a-5fe956185992"
      },
      "cell_type": "code",
      "source": [
        "# 0. 사용할 패키지 불러오기\n",
        "from keras.utils import np_utils\n",
        "from keras.datasets import mnist\n",
        "from keras.models import Sequential\n",
        "from keras.layers import Dense, Activation\n",
        "import numpy as np\n",
        "\n",
        "np.random.seed(3)"
      ],
      "execution_count": 1,
      "outputs": [
        {
          "output_type": "stream",
          "text": [
            "Using TensorFlow backend.\n"
          ],
          "name": "stderr"
        }
      ]
    },
    {
      "metadata": {
        "id": "vODnLbjdWqsC",
        "colab_type": "code",
        "colab": {}
      },
      "cell_type": "code",
      "source": [
        "# 1. 데이터셋 준비하기\n",
        "\n",
        "# 훈련셋과 시험셋 불러오기\n",
        "(x_train, y_train), (x_test, y_test) = mnist.load_data()\n",
        "\n",
        "# 훈련셋과 검증셋 분리\n",
        "x_val = x_train[50000:]\n",
        "y_val = y_train[50000:]\n",
        "x_train = x_train[:50000]\n",
        "y_train = y_train[:50000]\n",
        "\n",
        "# 데이터셋 전처리\n",
        "x_train = x_train.reshape(50000, 784).astype('float32') / 255.0\n",
        "x_val = x_val.reshape(10000, 784).astype('float32') / 255.0\n",
        "x_test = x_test.reshape(10000, 784).astype('float32') / 255.0\n",
        "\n",
        "# 훈련셋과 검증셋 고르기\n",
        "train_rand_idxs = np.random.choice(50000, 700)\n",
        "val_rand_idxs = np.random.choice(10000, 300)\n",
        "\n",
        "x_train = x_train[train_rand_idxs]\n",
        "y_train = y_train[train_rand_idxs]\n",
        "x_val = x_val[val_rand_idxs]\n",
        "y_val = y_val[val_rand_idxs]\n",
        "\n",
        "# 라벨데이터 원핫인코딩 (one-hot encoding) 처리\n",
        "y_train = np_utils.to_categorical(y_train)\n",
        "y_val = np_utils.to_categorical(y_val)\n",
        "y_test = np_utils.to_categorical(y_test)"
      ],
      "execution_count": 0,
      "outputs": []
    },
    {
      "metadata": {
        "id": "NoSly5AqWxil",
        "colab_type": "code",
        "colab": {}
      },
      "cell_type": "code",
      "source": [
        "# 2. 모델 구성하기\n",
        "model = Sequential()\n",
        "model.add(Dense(units=2, input_dim=28*28, activation='relu'))\n",
        "model.add(Dense(units=10, activation='softmax'))"
      ],
      "execution_count": 0,
      "outputs": []
    },
    {
      "metadata": {
        "id": "ar1q49m-W1v8",
        "colab_type": "code",
        "colab": {}
      },
      "cell_type": "code",
      "source": [
        "# 3. 모델 학습과정 설정하기\n",
        "model.compile(loss='categorical_crossentropy', optimizer='sgd', metrics=['accuracy'])"
      ],
      "execution_count": 0,
      "outputs": []
    },
    {
      "metadata": {
        "id": "GGLfMn9EW4nz",
        "colab_type": "code",
        "colab": {
          "base_uri": "https://localhost:8080/",
          "height": 4284
        },
        "outputId": "76a87d42-8beb-4d8a-e7d6-08ed93fefc1f"
      },
      "cell_type": "code",
      "source": [
        "# 4. 모델 학습시키기\n",
        "from keras.callbacks import EarlyStopping\n",
        "early_stopping = EarlyStopping(patience = 20)\n",
        "hist = model.fit(x_train, y_train, epochs=3000, batch_size=10, validation_data=(x_val, y_val),\n",
        "                callbacks=[early_stopping])"
      ],
      "execution_count": 5,
      "outputs": [
        {
          "output_type": "stream",
          "text": [
            "Train on 700 samples, validate on 300 samples\n",
            "Epoch 1/3000\n",
            "700/700 [==============================] - 0s 248us/step - loss: 2.2576 - acc: 0.1643 - val_loss: 2.2272 - val_acc: 0.1633\n",
            "Epoch 2/3000\n",
            "700/700 [==============================] - 0s 162us/step - loss: 2.2072 - acc: 0.1657 - val_loss: 2.1908 - val_acc: 0.1800\n",
            "Epoch 3/3000\n",
            "700/700 [==============================] - 0s 158us/step - loss: 2.1729 - acc: 0.1729 - val_loss: 2.1630 - val_acc: 0.1867\n",
            "Epoch 4/3000\n",
            "700/700 [==============================] - 0s 152us/step - loss: 2.1440 - acc: 0.1786 - val_loss: 2.1370 - val_acc: 0.1867\n",
            "Epoch 5/3000\n",
            "700/700 [==============================] - 0s 159us/step - loss: 2.1174 - acc: 0.1900 - val_loss: 2.1139 - val_acc: 0.1867\n",
            "Epoch 6/3000\n",
            "700/700 [==============================] - 0s 158us/step - loss: 2.0937 - acc: 0.2029 - val_loss: 2.0925 - val_acc: 0.2033\n",
            "Epoch 7/3000\n",
            "700/700 [==============================] - 0s 162us/step - loss: 2.0716 - acc: 0.2086 - val_loss: 2.0724 - val_acc: 0.2067\n",
            "Epoch 8/3000\n",
            "700/700 [==============================] - 0s 146us/step - loss: 2.0517 - acc: 0.2129 - val_loss: 2.0563 - val_acc: 0.2067\n",
            "Epoch 9/3000\n",
            "700/700 [==============================] - 0s 154us/step - loss: 2.0339 - acc: 0.2157 - val_loss: 2.0408 - val_acc: 0.2033\n",
            "Epoch 10/3000\n",
            "700/700 [==============================] - 0s 151us/step - loss: 2.0186 - acc: 0.2129 - val_loss: 2.0270 - val_acc: 0.2067\n",
            "Epoch 11/3000\n",
            "700/700 [==============================] - 0s 153us/step - loss: 2.0039 - acc: 0.2200 - val_loss: 2.0122 - val_acc: 0.2100\n",
            "Epoch 12/3000\n",
            "700/700 [==============================] - 0s 175us/step - loss: 1.9909 - acc: 0.2186 - val_loss: 2.0034 - val_acc: 0.2100\n",
            "Epoch 13/3000\n",
            "700/700 [==============================] - 0s 151us/step - loss: 1.9785 - acc: 0.2271 - val_loss: 1.9951 - val_acc: 0.2100\n",
            "Epoch 14/3000\n",
            "700/700 [==============================] - 0s 163us/step - loss: 1.9683 - acc: 0.2300 - val_loss: 1.9826 - val_acc: 0.2033\n",
            "Epoch 15/3000\n",
            "700/700 [==============================] - 0s 163us/step - loss: 1.9579 - acc: 0.2214 - val_loss: 1.9748 - val_acc: 0.2100\n",
            "Epoch 16/3000\n",
            "700/700 [==============================] - 0s 174us/step - loss: 1.9481 - acc: 0.2357 - val_loss: 1.9681 - val_acc: 0.2033\n",
            "Epoch 17/3000\n",
            "700/700 [==============================] - 0s 177us/step - loss: 1.9391 - acc: 0.2343 - val_loss: 1.9609 - val_acc: 0.2033\n",
            "Epoch 18/3000\n",
            "700/700 [==============================] - 0s 172us/step - loss: 1.9306 - acc: 0.2314 - val_loss: 1.9533 - val_acc: 0.2100\n",
            "Epoch 19/3000\n",
            "700/700 [==============================] - 0s 186us/step - loss: 1.9229 - acc: 0.2271 - val_loss: 1.9449 - val_acc: 0.2100\n",
            "Epoch 20/3000\n",
            "700/700 [==============================] - 0s 195us/step - loss: 1.9153 - acc: 0.2386 - val_loss: 1.9389 - val_acc: 0.2100\n",
            "Epoch 21/3000\n",
            "350/700 [==============>...............] - ETA: 0s - loss: 1.8796 - acc: 0.2400"
          ],
          "name": "stdout"
        },
        {
          "output_type": "stream",
          "text": [
            "700/700 [==============================] - 0s 177us/step - loss: 1.9083 - acc: 0.2329 - val_loss: 1.9358 - val_acc: 0.2067\n",
            "Epoch 22/3000\n",
            "700/700 [==============================] - 0s 193us/step - loss: 1.9009 - acc: 0.2386 - val_loss: 1.9286 - val_acc: 0.2033\n",
            "Epoch 23/3000\n",
            "700/700 [==============================] - 0s 169us/step - loss: 1.8951 - acc: 0.2357 - val_loss: 1.9231 - val_acc: 0.2100\n",
            "Epoch 24/3000\n",
            "700/700 [==============================] - 0s 175us/step - loss: 1.8890 - acc: 0.2314 - val_loss: 1.9203 - val_acc: 0.2100\n",
            "Epoch 25/3000\n",
            "700/700 [==============================] - 0s 172us/step - loss: 1.8827 - acc: 0.2343 - val_loss: 1.9177 - val_acc: 0.2167\n",
            "Epoch 26/3000\n",
            "700/700 [==============================] - 0s 164us/step - loss: 1.8767 - acc: 0.2286 - val_loss: 1.9101 - val_acc: 0.2167\n",
            "Epoch 27/3000\n",
            "700/700 [==============================] - 0s 175us/step - loss: 1.8711 - acc: 0.2357 - val_loss: 1.9097 - val_acc: 0.2167\n",
            "Epoch 28/3000\n",
            "700/700 [==============================] - 0s 164us/step - loss: 1.8659 - acc: 0.2400 - val_loss: 1.9090 - val_acc: 0.2000\n",
            "Epoch 29/3000\n",
            "700/700 [==============================] - 0s 173us/step - loss: 1.8611 - acc: 0.2400 - val_loss: 1.9058 - val_acc: 0.1867\n",
            "Epoch 30/3000\n",
            "700/700 [==============================] - 0s 163us/step - loss: 1.8562 - acc: 0.2243 - val_loss: 1.8975 - val_acc: 0.2167\n",
            "Epoch 31/3000\n",
            "700/700 [==============================] - 0s 181us/step - loss: 1.8510 - acc: 0.2457 - val_loss: 1.8972 - val_acc: 0.1933\n",
            "Epoch 32/3000\n",
            "700/700 [==============================] - 0s 166us/step - loss: 1.8460 - acc: 0.2343 - val_loss: 1.8925 - val_acc: 0.1900\n",
            "Epoch 33/3000\n",
            "700/700 [==============================] - 0s 170us/step - loss: 1.8420 - acc: 0.2214 - val_loss: 1.8873 - val_acc: 0.2067\n",
            "Epoch 34/3000\n",
            "700/700 [==============================] - 0s 172us/step - loss: 1.8380 - acc: 0.2371 - val_loss: 1.8807 - val_acc: 0.1933\n",
            "Epoch 35/3000\n",
            "700/700 [==============================] - 0s 167us/step - loss: 1.8332 - acc: 0.2471 - val_loss: 1.8837 - val_acc: 0.1833\n",
            "Epoch 36/3000\n",
            "700/700 [==============================] - 0s 179us/step - loss: 1.8296 - acc: 0.2371 - val_loss: 1.8753 - val_acc: 0.1967\n",
            "Epoch 37/3000\n",
            "700/700 [==============================] - 0s 165us/step - loss: 1.8254 - acc: 0.2486 - val_loss: 1.8744 - val_acc: 0.1767\n",
            "Epoch 38/3000\n",
            "700/700 [==============================] - 0s 166us/step - loss: 1.8217 - acc: 0.2371 - val_loss: 1.8699 - val_acc: 0.1933\n",
            "Epoch 39/3000\n",
            "700/700 [==============================] - 0s 181us/step - loss: 1.8181 - acc: 0.2443 - val_loss: 1.8707 - val_acc: 0.1767\n",
            "Epoch 40/3000\n",
            "700/700 [==============================] - 0s 163us/step - loss: 1.8141 - acc: 0.2300 - val_loss: 1.8678 - val_acc: 0.2000\n",
            "Epoch 41/3000\n",
            "700/700 [==============================] - 0s 199us/step - loss: 1.8101 - acc: 0.2414 - val_loss: 1.8672 - val_acc: 0.1833\n"
          ],
          "name": "stdout"
        },
        {
          "output_type": "stream",
          "text": [
            "Epoch 42/3000\n",
            "700/700 [==============================] - 0s 165us/step - loss: 1.8073 - acc: 0.2500 - val_loss: 1.8634 - val_acc: 0.1833\n",
            "Epoch 43/3000\n",
            "700/700 [==============================] - 0s 188us/step - loss: 1.8043 - acc: 0.2429 - val_loss: 1.8617 - val_acc: 0.1700\n",
            "Epoch 44/3000\n",
            "700/700 [==============================] - 0s 174us/step - loss: 1.7999 - acc: 0.2371 - val_loss: 1.8568 - val_acc: 0.1933\n",
            "Epoch 45/3000\n",
            "700/700 [==============================] - 0s 185us/step - loss: 1.7967 - acc: 0.2429 - val_loss: 1.8563 - val_acc: 0.1700\n",
            "Epoch 46/3000\n",
            "700/700 [==============================] - 0s 175us/step - loss: 1.7936 - acc: 0.2271 - val_loss: 1.8526 - val_acc: 0.1900\n",
            "Epoch 47/3000\n",
            "700/700 [==============================] - 0s 169us/step - loss: 1.7911 - acc: 0.2614 - val_loss: 1.8551 - val_acc: 0.1800\n",
            "Epoch 48/3000\n",
            "700/700 [==============================] - 0s 178us/step - loss: 1.7883 - acc: 0.2486 - val_loss: 1.8544 - val_acc: 0.1800\n",
            "Epoch 49/3000\n",
            "700/700 [==============================] - 0s 176us/step - loss: 1.7855 - acc: 0.2471 - val_loss: 1.8506 - val_acc: 0.1900\n",
            "Epoch 50/3000\n",
            "700/700 [==============================] - 0s 164us/step - loss: 1.7816 - acc: 0.2471 - val_loss: 1.8441 - val_acc: 0.2267\n",
            "Epoch 51/3000\n",
            "700/700 [==============================] - 0s 198us/step - loss: 1.7791 - acc: 0.2629 - val_loss: 1.8468 - val_acc: 0.1867\n",
            "Epoch 52/3000\n",
            "700/700 [==============================] - 0s 165us/step - loss: 1.7759 - acc: 0.2486 - val_loss: 1.8411 - val_acc: 0.1933\n",
            "Epoch 53/3000\n",
            "700/700 [==============================] - 0s 187us/step - loss: 1.7741 - acc: 0.2514 - val_loss: 1.8489 - val_acc: 0.2000\n",
            "Epoch 54/3000\n",
            "700/700 [==============================] - 0s 177us/step - loss: 1.7713 - acc: 0.2686 - val_loss: 1.8474 - val_acc: 0.1800\n",
            "Epoch 55/3000\n",
            "700/700 [==============================] - 0s 164us/step - loss: 1.7685 - acc: 0.2514 - val_loss: 1.8365 - val_acc: 0.2067\n",
            "Epoch 56/3000\n",
            "700/700 [==============================] - 0s 171us/step - loss: 1.7671 - acc: 0.2543 - val_loss: 1.8417 - val_acc: 0.2233\n",
            "Epoch 57/3000\n",
            "700/700 [==============================] - 0s 177us/step - loss: 1.7638 - acc: 0.2714 - val_loss: 1.8387 - val_acc: 0.2167\n",
            "Epoch 58/3000\n",
            "700/700 [==============================] - 0s 197us/step - loss: 1.7613 - acc: 0.2557 - val_loss: 1.8345 - val_acc: 0.2267\n",
            "Epoch 59/3000\n",
            "700/700 [==============================] - 0s 163us/step - loss: 1.7587 - acc: 0.2671 - val_loss: 1.8329 - val_acc: 0.2267\n",
            "Epoch 60/3000\n",
            "700/700 [==============================] - 0s 182us/step - loss: 1.7551 - acc: 0.2614 - val_loss: 1.8264 - val_acc: 0.2467\n",
            "Epoch 61/3000\n",
            "700/700 [==============================] - 0s 168us/step - loss: 1.7563 - acc: 0.2829 - val_loss: 1.8340 - val_acc: 0.2400\n"
          ],
          "name": "stdout"
        },
        {
          "output_type": "stream",
          "text": [
            "Epoch 62/3000\n",
            "700/700 [==============================] - 0s 173us/step - loss: 1.7529 - acc: 0.2700 - val_loss: 1.8314 - val_acc: 0.2267\n",
            "Epoch 63/3000\n",
            "700/700 [==============================] - 0s 179us/step - loss: 1.7503 - acc: 0.2871 - val_loss: 1.8302 - val_acc: 0.2033\n",
            "Epoch 64/3000\n",
            "700/700 [==============================] - 0s 168us/step - loss: 1.7481 - acc: 0.2786 - val_loss: 1.8276 - val_acc: 0.2167\n",
            "Epoch 65/3000\n",
            "700/700 [==============================] - 0s 182us/step - loss: 1.7455 - acc: 0.2814 - val_loss: 1.8304 - val_acc: 0.2033\n",
            "Epoch 66/3000\n",
            "700/700 [==============================] - 0s 169us/step - loss: 1.7437 - acc: 0.2771 - val_loss: 1.8301 - val_acc: 0.2067\n",
            "Epoch 67/3000\n",
            "700/700 [==============================] - 0s 168us/step - loss: 1.7417 - acc: 0.2729 - val_loss: 1.8292 - val_acc: 0.2067\n",
            "Epoch 68/3000\n",
            "700/700 [==============================] - 0s 178us/step - loss: 1.7403 - acc: 0.2729 - val_loss: 1.8244 - val_acc: 0.2000\n",
            "Epoch 69/3000\n",
            "700/700 [==============================] - 0s 168us/step - loss: 1.7374 - acc: 0.2814 - val_loss: 1.8304 - val_acc: 0.2200\n",
            "Epoch 70/3000\n",
            "700/700 [==============================] - 0s 176us/step - loss: 1.7354 - acc: 0.2829 - val_loss: 1.8272 - val_acc: 0.2433\n",
            "Epoch 71/3000\n",
            "700/700 [==============================] - 0s 163us/step - loss: 1.7342 - acc: 0.2800 - val_loss: 1.8215 - val_acc: 0.2167\n",
            "Epoch 72/3000\n",
            "700/700 [==============================] - 0s 164us/step - loss: 1.7326 - acc: 0.2857 - val_loss: 1.8230 - val_acc: 0.2133\n",
            "Epoch 73/3000\n",
            "700/700 [==============================] - 0s 194us/step - loss: 1.7296 - acc: 0.2857 - val_loss: 1.8257 - val_acc: 0.2533\n",
            "Epoch 74/3000\n",
            "700/700 [==============================] - 0s 170us/step - loss: 1.7281 - acc: 0.2857 - val_loss: 1.8259 - val_acc: 0.1967\n",
            "Epoch 75/3000\n",
            "700/700 [==============================] - 0s 175us/step - loss: 1.7267 - acc: 0.2786 - val_loss: 1.8197 - val_acc: 0.2267\n",
            "Epoch 76/3000\n",
            "700/700 [==============================] - 0s 180us/step - loss: 1.7253 - acc: 0.2871 - val_loss: 1.8200 - val_acc: 0.2233\n",
            "Epoch 77/3000\n",
            "700/700 [==============================] - 0s 181us/step - loss: 1.7226 - acc: 0.3043 - val_loss: 1.8234 - val_acc: 0.2000\n",
            "Epoch 78/3000\n",
            "700/700 [==============================] - 0s 181us/step - loss: 1.7209 - acc: 0.2871 - val_loss: 1.8175 - val_acc: 0.1967\n",
            "Epoch 79/3000\n",
            "700/700 [==============================] - 0s 166us/step - loss: 1.7197 - acc: 0.2800 - val_loss: 1.8198 - val_acc: 0.2433\n",
            "Epoch 80/3000\n",
            "700/700 [==============================] - 0s 174us/step - loss: 1.7186 - acc: 0.2957 - val_loss: 1.8196 - val_acc: 0.2067\n",
            "Epoch 81/3000\n",
            "700/700 [==============================] - 0s 168us/step - loss: 1.7163 - acc: 0.2786 - val_loss: 1.8256 - val_acc: 0.2067\n",
            "Epoch 82/3000\n",
            " 10/700 [..............................] - ETA: 0s - loss: 1.5536 - acc: 0.3000"
          ],
          "name": "stdout"
        },
        {
          "output_type": "stream",
          "text": [
            "700/700 [==============================] - 0s 170us/step - loss: 1.7139 - acc: 0.2771 - val_loss: 1.8154 - val_acc: 0.2700\n",
            "Epoch 83/3000\n",
            "700/700 [==============================] - 0s 173us/step - loss: 1.7131 - acc: 0.2843 - val_loss: 1.8197 - val_acc: 0.2400\n",
            "Epoch 84/3000\n",
            "700/700 [==============================] - 0s 168us/step - loss: 1.7123 - acc: 0.2971 - val_loss: 1.8222 - val_acc: 0.2167\n",
            "Epoch 85/3000\n",
            "700/700 [==============================] - 0s 172us/step - loss: 1.7096 - acc: 0.2971 - val_loss: 1.8157 - val_acc: 0.2300\n",
            "Epoch 86/3000\n",
            "700/700 [==============================] - 0s 162us/step - loss: 1.7080 - acc: 0.2786 - val_loss: 1.8157 - val_acc: 0.2633\n",
            "Epoch 87/3000\n",
            "700/700 [==============================] - 0s 172us/step - loss: 1.7049 - acc: 0.3071 - val_loss: 1.8198 - val_acc: 0.2667\n",
            "Epoch 88/3000\n",
            "700/700 [==============================] - 0s 174us/step - loss: 1.7060 - acc: 0.3057 - val_loss: 1.8116 - val_acc: 0.2433\n",
            "Epoch 89/3000\n",
            "700/700 [==============================] - 0s 165us/step - loss: 1.7042 - acc: 0.3029 - val_loss: 1.8174 - val_acc: 0.2200\n",
            "Epoch 90/3000\n",
            "700/700 [==============================] - 0s 164us/step - loss: 1.7026 - acc: 0.2814 - val_loss: 1.8153 - val_acc: 0.2233\n",
            "Epoch 91/3000\n",
            "700/700 [==============================] - 0s 180us/step - loss: 1.7016 - acc: 0.3086 - val_loss: 1.8186 - val_acc: 0.2133\n",
            "Epoch 92/3000\n",
            "700/700 [==============================] - 0s 165us/step - loss: 1.6985 - acc: 0.3129 - val_loss: 1.8219 - val_acc: 0.2067\n",
            "Epoch 93/3000\n",
            "700/700 [==============================] - 0s 169us/step - loss: 1.6979 - acc: 0.3086 - val_loss: 1.8175 - val_acc: 0.2733\n",
            "Epoch 94/3000\n",
            "700/700 [==============================] - 0s 165us/step - loss: 1.6969 - acc: 0.3157 - val_loss: 1.8180 - val_acc: 0.2100\n",
            "Epoch 95/3000\n",
            "700/700 [==============================] - 0s 164us/step - loss: 1.6941 - acc: 0.3014 - val_loss: 1.8181 - val_acc: 0.2800\n",
            "Epoch 96/3000\n",
            "700/700 [==============================] - 0s 171us/step - loss: 1.6947 - acc: 0.2986 - val_loss: 1.8099 - val_acc: 0.2233\n",
            "Epoch 97/3000\n",
            "700/700 [==============================] - 0s 160us/step - loss: 1.6929 - acc: 0.3029 - val_loss: 1.8227 - val_acc: 0.2333\n",
            "Epoch 98/3000\n",
            "700/700 [==============================] - 0s 176us/step - loss: 1.6920 - acc: 0.3014 - val_loss: 1.8129 - val_acc: 0.2200\n",
            "Epoch 99/3000\n",
            "700/700 [==============================] - 0s 164us/step - loss: 1.6899 - acc: 0.3100 - val_loss: 1.8259 - val_acc: 0.2233\n",
            "Epoch 100/3000\n",
            "700/700 [==============================] - 0s 182us/step - loss: 1.6889 - acc: 0.3114 - val_loss: 1.8221 - val_acc: 0.2267\n",
            "Epoch 101/3000\n",
            "700/700 [==============================] - 0s 174us/step - loss: 1.6876 - acc: 0.3143 - val_loss: 1.8197 - val_acc: 0.2200\n",
            "Epoch 102/3000\n",
            "700/700 [==============================] - 0s 164us/step - loss: 1.6876 - acc: 0.3000 - val_loss: 1.8215 - val_acc: 0.2300\n",
            "Epoch 103/3000\n",
            "400/700 [================>.............] - ETA: 0s - loss: 1.6957 - acc: 0.2775"
          ],
          "name": "stdout"
        },
        {
          "output_type": "stream",
          "text": [
            "700/700 [==============================] - 0s 184us/step - loss: 1.6841 - acc: 0.2986 - val_loss: 1.8103 - val_acc: 0.2500\n",
            "Epoch 104/3000\n",
            "700/700 [==============================] - 0s 164us/step - loss: 1.6841 - acc: 0.3171 - val_loss: 1.8125 - val_acc: 0.2200\n",
            "Epoch 105/3000\n",
            "700/700 [==============================] - 0s 163us/step - loss: 1.6819 - acc: 0.3071 - val_loss: 1.8066 - val_acc: 0.2067\n",
            "Epoch 106/3000\n",
            "700/700 [==============================] - 0s 178us/step - loss: 1.6812 - acc: 0.3143 - val_loss: 1.8181 - val_acc: 0.2233\n",
            "Epoch 107/3000\n",
            "700/700 [==============================] - 0s 160us/step - loss: 1.6803 - acc: 0.3100 - val_loss: 1.8235 - val_acc: 0.2367\n",
            "Epoch 108/3000\n",
            "700/700 [==============================] - 0s 165us/step - loss: 1.6782 - acc: 0.3043 - val_loss: 1.8172 - val_acc: 0.2767\n",
            "Epoch 109/3000\n",
            "700/700 [==============================] - 0s 165us/step - loss: 1.6781 - acc: 0.3157 - val_loss: 1.8183 - val_acc: 0.2267\n",
            "Epoch 110/3000\n",
            "700/700 [==============================] - 0s 170us/step - loss: 1.6774 - acc: 0.3200 - val_loss: 1.8154 - val_acc: 0.2133\n",
            "Epoch 111/3000\n",
            "700/700 [==============================] - 0s 171us/step - loss: 1.6774 - acc: 0.3014 - val_loss: 1.8179 - val_acc: 0.2233\n",
            "Epoch 112/3000\n",
            "700/700 [==============================] - 0s 167us/step - loss: 1.6744 - acc: 0.3129 - val_loss: 1.8201 - val_acc: 0.2233\n",
            "Epoch 113/3000\n",
            "700/700 [==============================] - 0s 178us/step - loss: 1.6736 - acc: 0.3100 - val_loss: 1.8212 - val_acc: 0.2300\n",
            "Epoch 114/3000\n",
            "700/700 [==============================] - 0s 161us/step - loss: 1.6723 - acc: 0.3014 - val_loss: 1.8232 - val_acc: 0.2267\n",
            "Epoch 115/3000\n",
            "700/700 [==============================] - 0s 168us/step - loss: 1.6711 - acc: 0.3071 - val_loss: 1.8137 - val_acc: 0.2333\n",
            "Epoch 116/3000\n",
            "700/700 [==============================] - 0s 184us/step - loss: 1.6703 - acc: 0.3171 - val_loss: 1.8241 - val_acc: 0.2267\n",
            "Epoch 117/3000\n",
            "700/700 [==============================] - 0s 163us/step - loss: 1.6692 - acc: 0.3114 - val_loss: 1.8233 - val_acc: 0.2400\n",
            "Epoch 118/3000\n",
            "700/700 [==============================] - 0s 186us/step - loss: 1.6681 - acc: 0.3114 - val_loss: 1.8276 - val_acc: 0.2333\n",
            "Epoch 119/3000\n",
            "700/700 [==============================] - 0s 181us/step - loss: 1.6669 - acc: 0.3243 - val_loss: 1.8232 - val_acc: 0.2200\n",
            "Epoch 120/3000\n",
            "700/700 [==============================] - 0s 171us/step - loss: 1.6660 - acc: 0.3157 - val_loss: 1.8206 - val_acc: 0.2167\n",
            "Epoch 121/3000\n",
            "700/700 [==============================] - 0s 181us/step - loss: 1.6645 - acc: 0.3071 - val_loss: 1.8113 - val_acc: 0.2233\n",
            "Epoch 122/3000\n",
            "700/700 [==============================] - 0s 169us/step - loss: 1.6636 - acc: 0.3157 - val_loss: 1.8195 - val_acc: 0.2133\n",
            "Epoch 123/3000\n",
            " 10/700 [..............................] - ETA: 0s - loss: 1.8362 - acc: 0.1000"
          ],
          "name": "stdout"
        },
        {
          "output_type": "stream",
          "text": [
            "700/700 [==============================] - 0s 170us/step - loss: 1.6633 - acc: 0.3071 - val_loss: 1.8136 - val_acc: 0.2200\n",
            "Epoch 124/3000\n",
            "700/700 [==============================] - 0s 158us/step - loss: 1.6618 - acc: 0.3114 - val_loss: 1.8208 - val_acc: 0.2233\n",
            "Epoch 125/3000\n",
            "700/700 [==============================] - 0s 166us/step - loss: 1.6607 - acc: 0.3243 - val_loss: 1.8222 - val_acc: 0.2300\n"
          ],
          "name": "stdout"
        }
      ]
    },
    {
      "metadata": {
        "id": "MPJxF4hYXA31",
        "colab_type": "code",
        "colab": {
          "base_uri": "https://localhost:8080/",
          "height": 279
        },
        "outputId": "23dcaad2-3e79-4e24-a303-12986a7702a1"
      },
      "cell_type": "code",
      "source": [
        "# 5. 학습과정 살펴보기\n",
        "%matplotlib inline\n",
        "import matplotlib.pyplot as plt\n",
        "\n",
        "fig, loss_ax = plt.subplots()\n",
        "\n",
        "acc_ax = loss_ax.twinx()\n",
        "\n",
        "loss_ax.plot(hist.history['loss'], 'y', label='train loss')\n",
        "loss_ax.plot(hist.history['val_loss'], 'r', label='val loss')\n",
        "\n",
        "acc_ax.plot(hist.history['acc'], 'b', label='train acc')\n",
        "acc_ax.plot(hist.history['val_acc'], 'g', label='val acc')\n",
        "\n",
        "loss_ax.set_xlabel('epoch')\n",
        "loss_ax.set_ylabel('loss')\n",
        "acc_ax.set_ylabel('accuracy')\n",
        "\n",
        "loss_ax.legend(loc='upper left')\n",
        "acc_ax.legend(loc='lower left')\n",
        "\n",
        "plt.show()"
      ],
      "execution_count": 6,
      "outputs": [
        {
          "output_type": "display_data",
          "data": {
            "image/png": "[encoded data removed]",
            "text/plain": [
              "<matplotlib.figure.Figure at 0x7fd28d2908d0>"
            ]
          },
          "metadata": {
            "tags": []
          }
        }
      ]
    },
    {
      "metadata": {
        "id": "Re_llZFHXoXX",
        "colab_type": "code",
        "colab": {
          "base_uri": "https://localhost:8080/",
          "height": 85
        },
        "outputId": "02c5dcf7-3add-45d1-cd9c-c08d72a853a2"
      },
      "cell_type": "code",
      "source": [
        "# 6. 모델 평가하기\n",
        "loss_and_metrics = model.evaluate(x_test, y_test, batch_size=32)\n",
        "\n",
        "print('')\n",
        "print('loss : ' + str(loss_and_metrics[0]))\n",
        "print('accuracy : ' + str(loss_and_metrics[1]))"
      ],
      "execution_count": 7,
      "outputs": [
        {
          "output_type": "stream",
          "text": [
            "10000/10000 [==============================] - 0s 32us/step\n",
            "\n",
            "loss : 1.8420419506072998\n",
            "accuracy : 0.2725\n"
          ],
          "name": "stdout"
        }
      ]
    },
    {
      "metadata": {
        "id": "j0S662u2XtXV",
        "colab_type": "code",
        "colab": {}
      },
      "cell_type": "code",
      "source": [
        ""
      ],
      "execution_count": 0,
      "outputs": []
    }
  ]
}