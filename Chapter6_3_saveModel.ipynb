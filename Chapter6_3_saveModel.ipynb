{
  "nbformat": 4,
  "nbformat_minor": 0,
  "metadata": {
    "colab": {
      "name": "Chapter6-3_saveModel.ipynb",
      "version": "0.3.2",
      "provenance": [],
      "toc_visible": true
    },
    "kernelspec": {
      "name": "python3",
      "display_name": "Python 3"
    },
    "accelerator": "GPU"
  },
  "cells": [
    {
      "cell_type": "markdown",
      "metadata": {
        "id": "view-in-github",
        "colab_type": "text"
      },
      "source": [
        "[View in Colaboratory](https://colab.research.google.com/github/zzune/KerasBasic/blob/master/Chapter6_3_saveModel.ipynb)"
      ]
    },
    {
      "metadata": {
        "id": "nxxax0PrQAqo",
        "colab_type": "code",
        "colab": {
          "base_uri": "https://localhost:8080/",
          "height": 34
        },
        "outputId": "3bb7d9ca-11e3-4cec-e790-3b9a0b106931"
      },
      "cell_type": "code",
      "source": [
        "# 0. 사용할 패키지 불러오기\n",
        "from keras.utils import np_utils\n",
        "from keras.datasets import mnist\n",
        "from keras.models import Sequential\n",
        "from keras.layers import Dense, Activation\n",
        "import numpy as np\n",
        "from numpy import argmax"
      ],
      "execution_count": 1,
      "outputs": [
        {
          "output_type": "stream",
          "text": [
            "Using TensorFlow backend.\n"
          ],
          "name": "stderr"
        }
      ]
    },
    {
      "metadata": {
        "id": "CFl0QzZaQaET",
        "colab_type": "code",
        "colab": {}
      },
      "cell_type": "code",
      "source": [
        "# 1. 데이터셋 생성하기\n",
        "\n",
        "# 훈련셋과 시험셋 불러오기\n",
        "(x_train, y_train), (x_test, y_test) = mnist.load_data()\n",
        "\n",
        "# 데이터셋 전처리\n",
        "x_train = x_train.reshape(60000, 784).astype('float32') / 255.0\n",
        "x_test = x_test.reshape(10000, 784).astype('float32') / 255.0\n",
        "\n",
        "# 원핫인코딩 (one-hot encoding) 처리\n",
        "y_train = np_utils.to_categorical(y_train)\n",
        "y_test = np_utils.to_categorical(y_test)\n",
        "\n",
        "# 훈련셋과 검증셋 분리\n",
        "x_val = x_train[:42000] # 훈련셋의 30%를 검증셋으로 사용\n",
        "x_train = x_train[42000:]\n",
        "y_val = y_train[:42000] # 훈련셋의 30%를 검증셋으로 사용\n",
        "y_train = y_train[42000:]"
      ],
      "execution_count": 0,
      "outputs": []
    },
    {
      "metadata": {
        "id": "VoMLdZA9Qbmd",
        "colab_type": "code",
        "colab": {}
      },
      "cell_type": "code",
      "source": [
        "# 2. 모델 구성하기\n",
        "model = Sequential()\n",
        "model.add(Dense(units=64, input_dim=28*28, activation='relu'))\n",
        "model.add(Dense(units=10, activation='softmax'))"
      ],
      "execution_count": 0,
      "outputs": []
    },
    {
      "metadata": {
        "id": "7J8VVGg0QeJF",
        "colab_type": "code",
        "colab": {}
      },
      "cell_type": "code",
      "source": [
        "# 3. 모델 학습과정 설정하기\n",
        "model.compile(loss='categorical_crossentropy', optimizer='sgd', metrics=['accuracy'])"
      ],
      "execution_count": 0,
      "outputs": []
    },
    {
      "metadata": {
        "id": "lNjwNdDYQi9Q",
        "colab_type": "code",
        "colab": {
          "base_uri": "https://localhost:8080/",
          "height": 241
        },
        "outputId": "037b4ead-7b79-490a-ab8c-4cf0bc5b62be"
      },
      "cell_type": "code",
      "source": [
        "# 4. 모델 학습시키기\n",
        "model.fit(x_train, y_train, epochs=5, batch_size=32, validation_data=(x_val, y_val))"
      ],
      "execution_count": 5,
      "outputs": [
        {
          "output_type": "stream",
          "text": [
            "Train on 18000 samples, validate on 42000 samples\n",
            "Epoch 1/5\n",
            "18000/18000 [==============================] - 6s 308us/step - loss: 1.1603 - acc: 0.7247 - val_loss: 0.6553 - val_acc: 0.8398\n",
            "Epoch 2/5\n",
            "18000/18000 [==============================] - 5s 280us/step - loss: 0.5178 - acc: 0.8692 - val_loss: 0.4869 - val_acc: 0.8685\n",
            "Epoch 3/5\n",
            "18000/18000 [==============================] - 5s 286us/step - loss: 0.4161 - acc: 0.8870 - val_loss: 0.4178 - val_acc: 0.8832\n",
            "Epoch 4/5\n",
            "18000/18000 [==============================] - 5s 281us/step - loss: 0.3707 - acc: 0.8974 - val_loss: 0.3854 - val_acc: 0.8920\n",
            "Epoch 5/5\n",
            "12608/18000 [====================>.........] - ETA: 0s - loss: 0.3439 - acc: 0.9036"
          ],
          "name": "stdout"
        },
        {
          "output_type": "stream",
          "text": [
            "18000/18000 [==============================] - 5s 285us/step - loss: 0.3437 - acc: 0.9039 - val_loss: 0.3680 - val_acc: 0.8951\n"
          ],
          "name": "stdout"
        },
        {
          "output_type": "execute_result",
          "data": {
            "text/plain": [
              "<keras.callbacks.History at 0x7f54d84d0cc0>"
            ]
          },
          "metadata": {
            "tags": []
          },
          "execution_count": 5
        }
      ]
    },
    {
      "metadata": {
        "id": "ByxbRxbjQlhy",
        "colab_type": "code",
        "colab": {
          "base_uri": "https://localhost:8080/",
          "height": 68
        },
        "outputId": "cb604864-2984-4ad1-9540-2db4fddbf512"
      },
      "cell_type": "code",
      "source": [
        "# 5. 모델 평가하기\n",
        "loss_and_metrics = model.evaluate(x_test, y_test, batch_size=32)\n",
        "print('')\n",
        "print('loss_and_metrics : ' + str(loss_and_metrics))"
      ],
      "execution_count": 6,
      "outputs": [
        {
          "output_type": "stream",
          "text": [
            "10000/10000 [==============================] - 1s 65us/step\n",
            "\n",
            "loss_and_metrics : [0.3425845740020275, 0.9033]\n"
          ],
          "name": "stdout"
        }
      ]
    },
    {
      "metadata": {
        "id": "-4Vk_f1vQpKT",
        "colab_type": "code",
        "colab": {}
      },
      "cell_type": "code",
      "source": [
        "# 6. 모델 저장하기\n",
        "from keras.models import load_model\n",
        "model.save('mnist_mlp_model.h5')"
      ],
      "execution_count": 0,
      "outputs": []
    }
  ]
}