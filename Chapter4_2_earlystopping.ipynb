{
  "nbformat": 4,
  "nbformat_minor": 0,
  "metadata": {
    "colab": {
      "name": "Chapter4-2_earlystopping.ipynb",
      "version": "0.3.2",
      "provenance": []
    },
    "kernelspec": {
      "name": "python3",
      "display_name": "Python 3"
    }
  },
  "cells": [
    {
      "cell_type": "markdown",
      "metadata": {
        "id": "view-in-github",
        "colab_type": "text"
      },
      "source": [
        "[View in Colaboratory](https://colab.research.google.com/github/zzune/KerasBasic/blob/master/Chapter4_2_earlystopping.ipynb)"
      ]
    },
    {
      "metadata": {
        "id": "011ep_xEPeab",
        "colab_type": "code",
        "colab": {
          "base_uri": "https://localhost:8080/",
          "height": 34
        },
        "outputId": "f4f0fd95-a5dd-45fe-a0fd-cf4c43523dd8"
      },
      "cell_type": "code",
      "source": [
        "# 0. 사용할 패키지 불러오기\n",
        "from keras.utils import np_utils\n",
        "from keras.datasets import mnist\n",
        "from keras.models import Sequential\n",
        "from keras.layers import Dense, Activation\n",
        "import numpy as np\n",
        "\n",
        "np.random.seed(3)"
      ],
      "execution_count": 1,
      "outputs": [
        {
          "output_type": "stream",
          "text": [
            "Using TensorFlow backend.\n"
          ],
          "name": "stderr"
        }
      ]
    },
    {
      "metadata": {
        "id": "i12C-9JCPwqm",
        "colab_type": "code",
        "colab": {}
      },
      "cell_type": "code",
      "source": [
        "# 1. 데이터셋 준비하기\n",
        "\n",
        "# 훈련셋과 시험셋 불러오기\n",
        "(x_train, y_train), (x_test, y_test) = mnist.load_data()\n",
        "\n",
        "# 훈련셋과 검증셋 분리\n",
        "x_val = x_train[50000:]\n",
        "y_val = y_train[50000:]\n",
        "x_train = x_train[:50000]\n",
        "y_train = y_train[:50000]\n",
        "\n",
        "# 데이터셋 전처리\n",
        "x_train = x_train.reshape(50000, 784).astype('float32') / 255.0\n",
        "x_val = x_val.reshape(10000, 784).astype('float32') / 255.0\n",
        "x_test = x_test.reshape(10000, 784).astype('float32') / 255.0\n",
        "\n",
        "# 훈련셋과 검증셋 고르기\n",
        "train_rand_idxs = np.random.choice(50000, 700)\n",
        "val_rand_idxs = np.random.choice(10000, 300)\n",
        "\n",
        "x_train = x_train[train_rand_idxs]\n",
        "y_train = y_train[train_rand_idxs]\n",
        "x_val = x_val[val_rand_idxs]\n",
        "y_val = y_val[val_rand_idxs]\n",
        "\n",
        "# 라벨데이터 원핫인코딩 (one-hot encoding) 처리\n",
        "y_train = np_utils.to_categorical(y_train)\n",
        "y_val = np_utils.to_categorical(y_val)\n",
        "y_test = np_utils.to_categorical(y_test)"
      ],
      "execution_count": 0,
      "outputs": []
    },
    {
      "metadata": {
        "id": "PFB2cYiqQvsS",
        "colab_type": "code",
        "colab": {}
      },
      "cell_type": "code",
      "source": [
        "# 2. 모델 구성하기\n",
        "model = Sequential()\n",
        "model.add(Dense(units=2, input_dim=28*28, activation='relu'))\n",
        "model.add(Dense(units=10, activation='softmax'))"
      ],
      "execution_count": 0,
      "outputs": []
    },
    {
      "metadata": {
        "id": "xc16LEuVQ5Ox",
        "colab_type": "code",
        "colab": {}
      },
      "cell_type": "code",
      "source": [
        "# 3. 모델 학습과정 설정하기\n",
        "model.compile(loss='categorical_crossentropy', optimizer='sgd', metrics=['accuracy'])"
      ],
      "execution_count": 0,
      "outputs": []
    },
    {
      "metadata": {
        "id": "0OEi03CFRATv",
        "colab_type": "code",
        "colab": {
          "base_uri": "https://localhost:8080/",
          "height": 1224
        },
        "outputId": "6f84799c-f6f1-4e21-c2f3-8ba43c48c9aa"
      },
      "cell_type": "code",
      "source": [
        "# 4. 모델 학습시키기\n",
        "from keras.callbacks import EarlyStopping\n",
        "early_stopping = EarlyStopping()\n",
        "hist = model.fit(x_train, y_train, epochs=3000, batch_size=10, validation_data=(x_val, y_val),\n",
        "                callbacks=[early_stopping])"
      ],
      "execution_count": 5,
      "outputs": [
        {
          "output_type": "stream",
          "text": [
            "Train on 700 samples, validate on 300 samples\n",
            "Epoch 1/3000\n",
            "700/700 [==============================] - 0s 229us/step - loss: 2.2576 - acc: 0.1643 - val_loss: 2.2272 - val_acc: 0.1633\n",
            "Epoch 2/3000\n",
            "700/700 [==============================] - 0s 159us/step - loss: 2.2071 - acc: 0.1671 - val_loss: 2.1907 - val_acc: 0.1800\n",
            "Epoch 3/3000\n",
            "700/700 [==============================] - 0s 148us/step - loss: 2.1728 - acc: 0.1729 - val_loss: 2.1629 - val_acc: 0.1867\n",
            "Epoch 4/3000\n",
            "700/700 [==============================] - 0s 156us/step - loss: 2.1439 - acc: 0.1786 - val_loss: 2.1370 - val_acc: 0.1867\n",
            "Epoch 5/3000\n",
            "700/700 [==============================] - 0s 154us/step - loss: 2.1175 - acc: 0.1900 - val_loss: 2.1139 - val_acc: 0.1867\n",
            "Epoch 6/3000\n",
            "700/700 [==============================] - 0s 146us/step - loss: 2.0938 - acc: 0.2029 - val_loss: 2.0926 - val_acc: 0.2033\n",
            "Epoch 7/3000\n",
            "700/700 [==============================] - 0s 151us/step - loss: 2.0717 - acc: 0.2086 - val_loss: 2.0724 - val_acc: 0.2067\n",
            "Epoch 8/3000\n",
            "700/700 [==============================] - 0s 153us/step - loss: 2.0517 - acc: 0.2129 - val_loss: 2.0562 - val_acc: 0.2067\n",
            "Epoch 9/3000\n",
            "700/700 [==============================] - 0s 157us/step - loss: 2.0338 - acc: 0.2157 - val_loss: 2.0408 - val_acc: 0.2033\n",
            "Epoch 10/3000\n",
            "700/700 [==============================] - 0s 155us/step - loss: 2.0185 - acc: 0.2143 - val_loss: 2.0269 - val_acc: 0.2067\n",
            "Epoch 11/3000\n",
            "700/700 [==============================] - 0s 154us/step - loss: 2.0039 - acc: 0.2200 - val_loss: 2.0123 - val_acc: 0.2100\n",
            "Epoch 12/3000\n",
            "700/700 [==============================] - 0s 153us/step - loss: 1.9909 - acc: 0.2186 - val_loss: 2.0034 - val_acc: 0.2100\n",
            "Epoch 13/3000\n",
            "700/700 [==============================] - 0s 160us/step - loss: 1.9785 - acc: 0.2271 - val_loss: 1.9952 - val_acc: 0.2100\n",
            "Epoch 14/3000\n",
            "700/700 [==============================] - 0s 145us/step - loss: 1.9683 - acc: 0.2300 - val_loss: 1.9830 - val_acc: 0.2033\n",
            "Epoch 15/3000\n",
            "700/700 [==============================] - 0s 140us/step - loss: 1.9580 - acc: 0.2214 - val_loss: 1.9750 - val_acc: 0.2100\n",
            "Epoch 16/3000\n",
            "700/700 [==============================] - 0s 155us/step - loss: 1.9481 - acc: 0.2371 - val_loss: 1.9681 - val_acc: 0.2033\n",
            "Epoch 17/3000\n",
            "700/700 [==============================] - 0s 140us/step - loss: 1.9391 - acc: 0.2343 - val_loss: 1.9609 - val_acc: 0.2033\n",
            "Epoch 18/3000\n",
            "700/700 [==============================] - 0s 140us/step - loss: 1.9306 - acc: 0.2314 - val_loss: 1.9534 - val_acc: 0.2100\n",
            "Epoch 19/3000\n",
            "700/700 [==============================] - 0s 142us/step - loss: 1.9229 - acc: 0.2271 - val_loss: 1.9449 - val_acc: 0.2100\n",
            "Epoch 20/3000\n",
            "700/700 [==============================] - 0s 146us/step - loss: 1.9153 - acc: 0.2386 - val_loss: 1.9389 - val_acc: 0.2100\n",
            "Epoch 21/3000\n",
            "700/700 [==============================] - 0s 142us/step - loss: 1.9082 - acc: 0.2329 - val_loss: 1.9358 - val_acc: 0.2067\n"
          ],
          "name": "stdout"
        },
        {
          "output_type": "stream",
          "text": [
            "Epoch 22/3000\n",
            "700/700 [==============================] - 0s 153us/step - loss: 1.9009 - acc: 0.2386 - val_loss: 1.9286 - val_acc: 0.2033\n",
            "Epoch 23/3000\n",
            "700/700 [==============================] - 0s 171us/step - loss: 1.8951 - acc: 0.2357 - val_loss: 1.9232 - val_acc: 0.2100\n",
            "Epoch 24/3000\n",
            "700/700 [==============================] - 0s 170us/step - loss: 1.8891 - acc: 0.2329 - val_loss: 1.9207 - val_acc: 0.2100\n",
            "Epoch 25/3000\n",
            "700/700 [==============================] - 0s 176us/step - loss: 1.8827 - acc: 0.2357 - val_loss: 1.9178 - val_acc: 0.2167\n",
            "Epoch 26/3000\n",
            "700/700 [==============================] - 0s 163us/step - loss: 1.8766 - acc: 0.2300 - val_loss: 1.9105 - val_acc: 0.2167\n",
            "Epoch 27/3000\n",
            "700/700 [==============================] - 0s 193us/step - loss: 1.8712 - acc: 0.2357 - val_loss: 1.9099 - val_acc: 0.2167\n",
            "Epoch 28/3000\n",
            "700/700 [==============================] - 0s 163us/step - loss: 1.8659 - acc: 0.2400 - val_loss: 1.9094 - val_acc: 0.2000\n",
            "Epoch 29/3000\n",
            "700/700 [==============================] - 0s 169us/step - loss: 1.8612 - acc: 0.2400 - val_loss: 1.9055 - val_acc: 0.1900\n",
            "Epoch 30/3000\n",
            "700/700 [==============================] - 0s 169us/step - loss: 1.8562 - acc: 0.2243 - val_loss: 1.8977 - val_acc: 0.2167\n",
            "Epoch 31/3000\n",
            "700/700 [==============================] - 0s 163us/step - loss: 1.8511 - acc: 0.2457 - val_loss: 1.8972 - val_acc: 0.1933\n",
            "Epoch 32/3000\n",
            "700/700 [==============================] - 0s 169us/step - loss: 1.8461 - acc: 0.2357 - val_loss: 1.8930 - val_acc: 0.1900\n",
            "Epoch 33/3000\n",
            "700/700 [==============================] - 0s 172us/step - loss: 1.8422 - acc: 0.2229 - val_loss: 1.8876 - val_acc: 0.2133\n",
            "Epoch 34/3000\n",
            "700/700 [==============================] - 0s 168us/step - loss: 1.8381 - acc: 0.2314 - val_loss: 1.8815 - val_acc: 0.1967\n",
            "Epoch 35/3000\n",
            "700/700 [==============================] - 0s 168us/step - loss: 1.8333 - acc: 0.2486 - val_loss: 1.8838 - val_acc: 0.1833\n"
          ],
          "name": "stdout"
        }
      ]
    },
    {
      "metadata": {
        "id": "d8iK1ZcoROyg",
        "colab_type": "code",
        "colab": {
          "base_uri": "https://localhost:8080/",
          "height": 279
        },
        "outputId": "684aaeb4-5159-415d-84fb-01dc776d0af2"
      },
      "cell_type": "code",
      "source": [
        "# 5. 학습과정 살펴보기\n",
        "%matplotlib inline\n",
        "import matplotlib.pyplot as plt\n",
        "\n",
        "fig, loss_ax = plt.subplots()\n",
        "\n",
        "acc_ax = loss_ax.twinx()\n",
        "\n",
        "loss_ax.plot(hist.history['loss'], 'y', label='train loss')\n",
        "loss_ax.plot(hist.history['val_loss'], 'r', label='val loss')\n",
        "\n",
        "acc_ax.plot(hist.history['acc'], 'b', label='train acc')\n",
        "acc_ax.plot(hist.history['val_acc'], 'g', label='val acc')\n",
        "\n",
        "loss_ax.set_xlabel('epoch')\n",
        "loss_ax.set_ylabel('loss')\n",
        "acc_ax.set_ylabel('accuracy')\n",
        "\n",
        "loss_ax.legend(loc='upper left')\n",
        "acc_ax.legend(loc='lower left')\n",
        "\n",
        "plt.show()"
      ],
      "execution_count": 6,
      "outputs": [
        {
          "output_type": "display_data",
          "data": {
            "image/png": "[encoded data removed]",
            "text/plain": [
              "<matplotlib.figure.Figure at 0x7f5fd1a757b8>"
            ]
          },
          "metadata": {
            "tags": []
          }
        }
      ]
    },
    {
      "metadata": {
        "id": "XkvxFaLSVz8p",
        "colab_type": "code",
        "colab": {
          "base_uri": "https://localhost:8080/",
          "height": 85
        },
        "outputId": "ff35fce5-3dbf-4472-c9ba-0bc1eee886cb"
      },
      "cell_type": "code",
      "source": [
        "# 6. 모델 평가하기\n",
        "loss_and_metrics = model.evaluate(x_test, y_test, batch_size=32)\n",
        "\n",
        "print('')\n",
        "print('loss : ' + str(loss_and_metrics[0]))\n",
        "print('accuracy : ' + str(loss_and_metrics[1]))"
      ],
      "execution_count": 7,
      "outputs": [
        {
          "output_type": "stream",
          "text": [
            "10000/10000 [==============================] - 0s 28us/step\n",
            "\n",
            "loss : 1.9108153785705566\n",
            "accuracy : 0.199\n"
          ],
          "name": "stdout"
        }
      ]
    },
    {
      "metadata": {
        "id": "xBmXwsV4WBCf",
        "colab_type": "code",
        "colab": {}
      },
      "cell_type": "code",
      "source": [
        ""
      ],
      "execution_count": 0,
      "outputs": []
    }
  ]
}